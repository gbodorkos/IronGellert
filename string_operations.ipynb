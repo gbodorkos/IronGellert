{
 "cells": [
  {
   "cell_type": "markdown",
   "metadata": {},
   "source": [
    "# string operations lab \n",
    "- download a local copy of this notebook file by right clicking on the Raw button\n",
    "- work through the tasks\n",
    "- annotate as much as you can and use the resources in the Notion\n",
    "- remember to google, ask your classmates or ask the TA if you get stuck.\n",
    "- if you cannot finish one task, dont worry - move on to the next\n",
    "- push your completed notebook to your lab github repo and submit the url via the student portal to let us know you did it and so we can have a look at your work\n",
    "- Happy learning!"
   ]
  },
  {
   "cell_type": "markdown",
   "metadata": {},
   "source": [
    "# Challenge 1 - Combining Strings\n",
    "\n",
    "Combining strings is an important skill to acquire. There are multiple ways of combining strings in Python, as well as combining strings with variables. We will explore this in the first challenge. In the cell below, combine the strings in the list and add spaces between the strings (do not add a space after the last string). Insert a period after the last string."
   ]
  },
  {
   "cell_type": "code",
   "execution_count": 41,
   "metadata": {},
   "outputs": [
    {
     "data": {
      "text/plain": [
       "'Durante un tiempo no estuvo segura de si su marido era su marido.'"
      ]
     },
     "execution_count": 41,
     "metadata": {},
     "output_type": "execute_result"
    }
   ],
   "source": [
    "str_list = ['Durante', 'un', 'tiempo', 'no', 'estuvo', 'segura', 'de', 'si', 'su', 'marido', 'era', 'su', 'marido']\n",
    "# Your code here:\n",
    "\n",
    "' '.join(str_list)+'.'"
   ]
  },
  {
   "cell_type": "markdown",
   "metadata": {},
   "source": [
    "In the cell below, use the list of strings to create a grocery list. Start the list with the string `Grocery list: ` and include a comma and a space between each item except for the last one. Include a period at the end. Only include foods in the list that start with the letter 'b' and ensure all foods are lower case."
   ]
  },
  {
   "cell_type": "code",
   "execution_count": 68,
   "metadata": {},
   "outputs": [
    {
     "name": "stdout",
     "output_type": "stream",
     "text": [
      "Original grocery list: ['bananas', 'chocolate', 'bread', 'diapers', 'ice cream', 'brownie mix', 'broccoli']\n"
     ]
    },
    {
     "data": {
      "text/plain": [
       "\"The list of foods with letter 'b' : ['bananas', 'bread', 'brownie mix', 'broccoli'].\""
      ]
     },
     "execution_count": 68,
     "metadata": {},
     "output_type": "execute_result"
    }
   ],
   "source": [
    "food_list = ['Bananas', 'Chocolate', 'bread', 'diapers', 'Ice Cream', 'Brownie Mix', 'broccoli']\n",
    "\n",
    "for i in range(len(food_list)):\n",
    "    food_list[i] = food_list[i].lower()\n",
    "\n",
    "check = 'b'\n",
    "  \n",
    "print(\"Original grocery list: \" + str(food_list))\n",
    "  \n",
    "res = [a for a in food_list if a.lower().startswith(check.lower())]\n",
    "  \n",
    "\"The list of foods with letter 'b' : \" + str(res)+'.'"
   ]
  },
  {
   "cell_type": "markdown",
   "metadata": {},
   "source": [
    "In the cell below, compute the area of a circle using its radius and insert the radius and the area between `string1` and `string2`. Make sure to include spaces between the variable and the strings. \n",
    "\n",
    "Note: You can use the techniques we have learned so far or use f-strings. F-strings allow us to embed code inside strings. You can read more about f-strings [here](https://www.python.org/dev/peps/pep-0498/)."
   ]
  },
  {
   "cell_type": "code",
   "execution_count": 88,
   "metadata": {},
   "outputs": [
    {
     "name": "stdout",
     "output_type": "stream",
     "text": [
      "The area of the circle with radius 4.5 cm is: 63.61725123519331 cm\n"
     ]
    }
   ],
   "source": [
    "import math\n",
    "\n",
    "string1 = \"The area of the circle with radius:\"\n",
    "string2  = \"is:\"\n",
    "radius = 4.5\n",
    "pi = math.pi\n",
    "\n",
    "# Your code here:\n",
    "\n",
    "from math import pi\n",
    "print (\"The area of the circle with radius \" + str(radius),\"cm\" + \" is: \" + str(pi * radius**2),\"cm\")"
   ]
  },
  {
   "cell_type": "markdown",
   "metadata": {},
   "source": [
    "# Challenge 2 - Splitting Strings\n",
    "\n",
    "We have first looked at combining strings into one long string. There are times where we need to do the opposite and split the string into smaller components for further analysis. \n",
    "\n",
    "In the cell below, split the string into a list of strings using the space delimiter. Count the frequency of each word in the string in a dictionary. Strip the periods, line breaks and commas from the text. Make sure to remove empty strings from your dictionary."
   ]
  },
  {
   "cell_type": "code",
   "execution_count": 274,
   "metadata": {
    "scrolled": true
   },
   "outputs": [
    {
     "name": "stdout",
     "output_type": "stream",
     "text": [
      "Some say the world will end in fire Some say in ice From what I’ve tasted of desire I hold with those who favor fire But if it had to perish twice I think I know enough of hate To say that for destruction ice Is also great And would suffice\n",
      "String\n",
      "Some say the world will end in fire Some say in ice From what I’ve tasted of desire I hold with those who favor fire But if it had to perish twice I think I know enough of hate To say that for destruction ice Is also great And would suffice\n",
      "\n",
      "List\n",
      "['Some', 'say', 'the', 'world', 'will', 'end', 'in', 'fire', 'Some', 'say', 'in', 'ice', 'From', 'what', 'I’ve', 'tasted', 'of', 'desire', 'I', 'hold', 'with', 'those', 'who', 'favor', 'fire', 'But', 'if', 'it', 'had', 'to', 'perish', 'twice', 'I', 'think', 'I', 'know', 'enough', 'of', 'hate', 'To', 'say', 'that', 'for', 'destruction', 'ice', 'Is', 'also', 'great', 'And', 'would', 'suffice']\n",
      "\n",
      "Frequencies\n",
      "[2, 3, 1, 1, 1, 1, 2, 2, 2, 3, 2, 2, 1, 1, 1, 1, 2, 1, 3, 1, 1, 1, 1, 1, 2, 1, 1, 1, 1, 1, 1, 1, 3, 1, 3, 1, 1, 2, 1, 1, 3, 1, 1, 1, 2, 1, 1, 1, 1, 1, 1]\n",
      "\n",
      "Pairs\n",
      "[('Some', 2), ('say', 3), ('the', 1), ('world', 1), ('will', 1), ('end', 1), ('in', 2), ('fire', 2), ('Some', 2), ('say', 3), ('in', 2), ('ice', 2), ('From', 1), ('what', 1), ('I’ve', 1), ('tasted', 1), ('of', 2), ('desire', 1), ('I', 3), ('hold', 1), ('with', 1), ('those', 1), ('who', 1), ('favor', 1), ('fire', 2), ('But', 1), ('if', 1), ('it', 1), ('had', 1), ('to', 1), ('perish', 1), ('twice', 1), ('I', 3), ('think', 1), ('I', 3), ('know', 1), ('enough', 1), ('of', 2), ('hate', 1), ('To', 1), ('say', 3), ('that', 1), ('for', 1), ('destruction', 1), ('ice', 2), ('Is', 1), ('also', 1), ('great', 1), ('And', 1), ('would', 1), ('suffice', 1)]\n"
     ]
    }
   ],
   "source": [
    "poem = \"\"\"Some say the world will end in fire,\n",
    "Some say in ice.\n",
    "From what I’ve tasted of desire\n",
    "I hold with those who favor fire.\n",
    "But if it had to perish twice,\n",
    "I think I know enough of hate\n",
    "To say that for destruction ice\n",
    "Is also great\n",
    "And would suffice.\"\"\"\n",
    "\n",
    "characters_to_replace = {',': '',\n",
    "                   '.': '',\n",
    "                   '\\n': ''}\n",
    "\n",
    "poem = poem.translate(str.maketrans(char_to_replace))\n",
    "\n",
    "print(poem)\n",
    "\n",
    "poem.splitlines()\n",
    "\n",
    "wordlist = poem.split()\n",
    "\n",
    "wordfreq = []\n",
    "for w in wordlist:\n",
    "    wordfreq.append(wordlist.count(w))\n",
    "\n",
    "print(\"String\\n\" + poem +\"\\n\")\n",
    "print(\"List\\n\" + str(wordlist) + \"\\n\")\n",
    "print(\"Frequencies\\n\" + str(wordfreq) + \"\\n\")\n",
    "print(\"Pairs\\n\" + str(list(zip(wordlist, wordfreq))))"
   ]
  },
  {
   "cell_type": "markdown",
   "metadata": {},
   "source": [
    "In the cell below, find all the words that appear in the text and do not appear in the blacklist. You must parse the string but can choose any data structure you wish for the words that do not appear in the blacklist. Remove all non letter characters and convert all words to lower case."
   ]
  },
  {
   "cell_type": "code",
   "execution_count": 275,
   "metadata": {},
   "outputs": [
    {
     "name": "stdout",
     "output_type": "stream",
     "text": [
      "I was angry with my friend  I told my wrath my wrath did end I was angry with my foe  I told it not my wrath did grow   And I waterd it in fears Night  morning with my tears  And I sunned it with smiles And with soft deceitful wiles   And it grew both day and night  Till it bore an apple bright  And my foe beheld it shine And he knew that it was mine   And into my garden stole  When the night had veild the pole  In the morning glad I see  My foe outstretched beneath the tree\n",
      "['i was angry with my friend  i told my wrath my wrath did end i was angry with my foe  i told it not my wrath did grow   and i waterd it in fears night  morning with my tears  and i sunned it with smiles and with soft deceitful wiles   and it grew both day and night  till it bore an apple bright  and my foe beheld it shine and he knew that it was mine   and into my garden stole  when the night had veild the pole  in the morning glad i see  my foe outstretched beneath the tree']\n"
     ]
    }
   ],
   "source": [
    "blacklist = ['and', 'as', 'an', 'a', 'the', 'in', 'it']\n",
    "\n",
    "poem = \"\"\"I was angry with my friend; \n",
    "I told my wrath, my wrath did end.\n",
    "I was angry with my foe: \n",
    "I told it not, my wrath did grow. \n",
    "\n",
    "And I waterd it in fears,\n",
    "Night & morning with my tears: \n",
    "And I sunned it with smiles,\n",
    "And with soft deceitful wiles. \n",
    "\n",
    "And it grew both day and night. \n",
    "Till it bore an apple bright. \n",
    "And my foe beheld it shine,\n",
    "And he knew that it was mine. \n",
    "\n",
    "And into my garden stole, \n",
    "When the night had veild the pole; \n",
    "In the morning glad I see; \n",
    "My foe outstretched beneath the tree.\"\"\"\n",
    "\n",
    "\n",
    "####sample_string = \"This is a sample string\"\n",
    "char_to_replace = {',': '',\n",
    "                   '.': '',\n",
    "                   ';': '',\n",
    "                   '.': '',\n",
    "                   '\\n': ' ',\n",
    "                  '&': '',\n",
    "                  ':': '',}\n",
    "result = ''\n",
    "# Iterate over all characters in string\n",
    "for elem in poem:\n",
    "    # Check if character is in dict as key\n",
    "    if elem in char_to_replace:\n",
    "        # If yes then add the value of that char\n",
    "        # from dict to the new string\n",
    "        result += char_to_replace[elem]\n",
    "    else:\n",
    "        # If not then add the character in new string\n",
    "        result += elem\n",
    "print(result)\n",
    "\n",
    "\n",
    "out = map(lambda x:x.lower(), [result])\n",
    "  \n",
    "# Converting it into list\n",
    "output = list(out)\n",
    "  \n",
    "# printing output\n",
    "print(output)\n"
   ]
  },
  {
   "cell_type": "markdown",
   "metadata": {},
   "source": [
    "# Bonus 1 - Regular Expressions\n",
    "\n",
    "Sometimes, we would like to perform more complex manipulations of our string. This is where regular expressions come in handy. \n",
    "\n",
    "Have you used regeex before? If not, to get the basics of regular expressions you can try this [hands-on tutorial](https://regexone.com/). Depending how the tutorial goes, have a go with these bonus challenges!\n",
    "\n",
    "In the cell below, return all characters that are upper case from the string specified below."
   ]
  },
  {
   "cell_type": "code",
   "execution_count": 1,
   "metadata": {},
   "outputs": [],
   "source": [
    "import re"
   ]
  },
  {
   "cell_type": "code",
   "execution_count": 7,
   "metadata": {},
   "outputs": [],
   "source": [
    "poem = \"\"\"The apparition of these faces in the crowd;\n",
    "Petals on a wet, black bough.\"\"\"\n",
    "\n",
    "# Your code here:\n"
   ]
  },
  {
   "cell_type": "markdown",
   "metadata": {},
   "source": [
    "In the cell below, filter the list provided and return all elements of the list containing a number. To filter the list, use the `re.search` function. Check if the function does not return `None`. You can read more about the `re.search` function [here](https://docs.python.org/3/library/re.html)."
   ]
  },
  {
   "cell_type": "code",
   "execution_count": 8,
   "metadata": {},
   "outputs": [],
   "source": [
    "data = ['123abc', 'abc123', 'JohnSmith1', 'ABBY4', 'JANE']\n",
    "\n",
    "# Your code here:\n"
   ]
  },
  {
   "cell_type": "markdown",
   "metadata": {},
   "source": [
    "# Bonus 2 - Regular Expressions II\n",
    "\n",
    "In the cell below, filter the list provided to keep only strings containing at least one digit and at least one lower case letter. As in the previous question, use the `re.search` function and check that the result is not `None`.\n",
    "\n",
    "To read more about regular expressions, check out [this link](https://developers.google.com/edu/python/regular-expressions)."
   ]
  },
  {
   "cell_type": "code",
   "execution_count": 9,
   "metadata": {},
   "outputs": [],
   "source": [
    "data = ['123abc', 'abc123', 'JohnSmith1', 'ABBY4', 'JANE']\n",
    "\n",
    "# Your code here:\n"
   ]
  }
 ],
 "metadata": {
  "file_extension": ".py",
  "kernelspec": {
   "display_name": "Python 3",
   "language": "python",
   "name": "python3"
  },
  "language_info": {
   "codemirror_mode": {
    "name": "ipython",
    "version": 3
   },
   "file_extension": ".py",
   "mimetype": "text/x-python",
   "name": "python",
   "nbconvert_exporter": "python",
   "pygments_lexer": "ipython3",
   "version": "3.8.8"
  },
  "mimetype": "text/x-python",
  "name": "python",
  "npconvert_exporter": "python",
  "pygments_lexer": "ipython3",
  "version": 3
 },
 "nbformat": 4,
 "nbformat_minor": 2
}
