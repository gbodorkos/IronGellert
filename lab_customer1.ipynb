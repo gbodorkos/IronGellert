{
 "cells": [
  {
   "cell_type": "code",
   "execution_count": 24,
   "id": "5f9bb10d",
   "metadata": {},
   "outputs": [],
   "source": [
    "import numpy as np\n",
    "import pandas as pd"
   ]
  },
  {
   "cell_type": "code",
   "execution_count": 3,
   "id": "2f9938de",
   "metadata": {},
   "outputs": [],
   "source": [
    "file=pd.read_excel('fileadded.xlsx')"
   ]
  },
  {
   "cell_type": "code",
   "execution_count": 4,
   "id": "c7e60a2a",
   "metadata": {},
   "outputs": [
    {
     "data": {
      "text/plain": [
       "(9137, 11)"
      ]
     },
     "execution_count": 4,
     "metadata": {},
     "output_type": "execute_result"
    }
   ],
   "source": [
    "file.shape"
   ]
  },
  {
   "cell_type": "code",
   "execution_count": 5,
   "id": "d52a5f37",
   "metadata": {},
   "outputs": [],
   "source": [
    "cols=[]\n",
    "for i in range(len(file.columns)):\n",
    "    cols.append(file.columns[i].lower())\n",
    "#cols\n",
    "# trun column headers into lower case text"
   ]
  },
  {
   "cell_type": "code",
   "execution_count": 6,
   "id": "7c71f128",
   "metadata": {},
   "outputs": [],
   "source": [
    "file.columns=cols"
   ]
  },
  {
   "cell_type": "code",
   "execution_count": 7,
   "id": "1c653e9e",
   "metadata": {},
   "outputs": [
    {
     "data": {
      "text/plain": [
       "(9137, 11)"
      ]
     },
     "execution_count": 7,
     "metadata": {},
     "output_type": "execute_result"
    }
   ],
   "source": [
    "file.shape"
   ]
  },
  {
   "cell_type": "code",
   "execution_count": 32,
   "id": "37c6c820",
   "metadata": {
    "scrolled": true
   },
   "outputs": [
    {
     "data": {
      "text/html": [
       "<div>\n",
       "<style scoped>\n",
       "    .dataframe tbody tr th:only-of-type {\n",
       "        vertical-align: middle;\n",
       "    }\n",
       "\n",
       "    .dataframe tbody tr th {\n",
       "        vertical-align: top;\n",
       "    }\n",
       "\n",
       "    .dataframe thead th {\n",
       "        text-align: right;\n",
       "    }\n",
       "</style>\n",
       "<table border=\"1\" class=\"dataframe\">\n",
       "  <thead>\n",
       "    <tr style=\"text-align: right;\">\n",
       "      <th></th>\n",
       "      <th>customer</th>\n",
       "      <th>st</th>\n",
       "      <th>gender</th>\n",
       "      <th>customer lifetime value</th>\n",
       "      <th>income</th>\n",
       "      <th>monthly premium auto</th>\n",
       "      <th>policy type</th>\n",
       "      <th>vehicle class</th>\n",
       "      <th>total claim amount</th>\n",
       "    </tr>\n",
       "  </thead>\n",
       "  <tbody>\n",
       "    <tr>\n",
       "      <th>0</th>\n",
       "      <td>RB50392</td>\n",
       "      <td>Washington</td>\n",
       "      <td>NaN</td>\n",
       "      <td>customer lifetime valuecustomer lifetime value...</td>\n",
       "      <td>0</td>\n",
       "      <td>1000</td>\n",
       "      <td>Personal Auto</td>\n",
       "      <td>Four-Door Car</td>\n",
       "      <td>2.704934</td>\n",
       "    </tr>\n",
       "    <tr>\n",
       "      <th>1</th>\n",
       "      <td>QZ44356</td>\n",
       "      <td>Arizona</td>\n",
       "      <td>F</td>\n",
       "      <td>customer lifetime valuecustomer lifetime value...</td>\n",
       "      <td>0</td>\n",
       "      <td>94</td>\n",
       "      <td>Personal Auto</td>\n",
       "      <td>Four-Door Car</td>\n",
       "      <td>1131.464935</td>\n",
       "    </tr>\n",
       "    <tr>\n",
       "      <th>2</th>\n",
       "      <td>AI49188</td>\n",
       "      <td>Nevada</td>\n",
       "      <td>F</td>\n",
       "      <td>customer lifetime valuecustomer lifetime value...</td>\n",
       "      <td>48767</td>\n",
       "      <td>108</td>\n",
       "      <td>Personal Auto</td>\n",
       "      <td>Two-Door Car</td>\n",
       "      <td>566.472247</td>\n",
       "    </tr>\n",
       "    <tr>\n",
       "      <th>3</th>\n",
       "      <td>WW63253</td>\n",
       "      <td>California</td>\n",
       "      <td>M</td>\n",
       "      <td>customer lifetime valuecustomer lifetime value...</td>\n",
       "      <td>0</td>\n",
       "      <td>106</td>\n",
       "      <td>Corporate Auto</td>\n",
       "      <td>SUV</td>\n",
       "      <td>529.881344</td>\n",
       "    </tr>\n",
       "    <tr>\n",
       "      <th>4</th>\n",
       "      <td>GA49547</td>\n",
       "      <td>Washington</td>\n",
       "      <td>M</td>\n",
       "      <td>customer lifetime valuecustomer lifetime value...</td>\n",
       "      <td>36357</td>\n",
       "      <td>68</td>\n",
       "      <td>Personal Auto</td>\n",
       "      <td>Four-Door Car</td>\n",
       "      <td>17.269323</td>\n",
       "    </tr>\n",
       "  </tbody>\n",
       "</table>\n",
       "</div>"
      ],
      "text/plain": [
       "  customer          st gender  \\\n",
       "0  RB50392  Washington    NaN   \n",
       "1  QZ44356     Arizona      F   \n",
       "2  AI49188      Nevada      F   \n",
       "3  WW63253  California      M   \n",
       "4  GA49547  Washington      M   \n",
       "\n",
       "                             customer lifetime value  income  \\\n",
       "0  customer lifetime valuecustomer lifetime value...       0   \n",
       "1  customer lifetime valuecustomer lifetime value...       0   \n",
       "2  customer lifetime valuecustomer lifetime value...   48767   \n",
       "3  customer lifetime valuecustomer lifetime value...       0   \n",
       "4  customer lifetime valuecustomer lifetime value...   36357   \n",
       "\n",
       "   monthly premium auto     policy type  vehicle class total claim amount  \n",
       "0                  1000   Personal Auto  Four-Door Car           2.704934  \n",
       "1                    94   Personal Auto  Four-Door Car        1131.464935  \n",
       "2                   108   Personal Auto   Two-Door Car         566.472247  \n",
       "3                   106  Corporate Auto            SUV         529.881344  \n",
       "4                    68   Personal Auto  Four-Door Car          17.269323  "
      ]
     },
     "execution_count": 32,
     "metadata": {},
     "output_type": "execute_result"
    }
   ],
   "source": [
    "file.head()"
   ]
  },
  {
   "cell_type": "markdown",
   "id": "44dcf898",
   "metadata": {},
   "source": [
    "Concatenate the three dataframes - I have added the three excel files before importing I believe that had the same effect"
   ]
  },
  {
   "cell_type": "code",
   "execution_count": 9,
   "id": "c5507a3b",
   "metadata": {},
   "outputs": [
    {
     "data": {
      "text/plain": [
       "customer                     object\n",
       "st                           object\n",
       "gender                       object\n",
       "education                    object\n",
       "customer lifetime value      object\n",
       "income                        int64\n",
       "monthly premium auto          int64\n",
       "number of open complaints    object\n",
       "policy type                  object\n",
       "vehicle class                object\n",
       "total claim amount           object\n",
       "dtype: object"
      ]
     },
     "execution_count": 9,
     "metadata": {},
     "output_type": "execute_result"
    }
   ],
   "source": [
    "file.dtypes"
   ]
  },
  {
   "cell_type": "markdown",
   "id": "e62cdce3",
   "metadata": {},
   "source": [
    "Which columns are numerical? - income, monthly premium auto"
   ]
  },
  {
   "cell_type": "markdown",
   "id": "94939013",
   "metadata": {},
   "source": [
    "Which columns are categorical? - all the rest of the columns\n",
    "\n",
    "customer                     object\n",
    "st                           object\n",
    "gender                       object\n",
    "education                    object\n",
    "customer lifetime value      object\n",
    "number of open complaints    object\n",
    "policy type                  object\n",
    "vehicle class                object\n",
    "total claim amount           object"
   ]
  },
  {
   "cell_type": "markdown",
   "id": "0950b662",
   "metadata": {},
   "source": [
    "Understand the meaning of all columns\n",
    "\n",
    "Customer code, state, gender, education and so an as we can see in the excel doocument"
   ]
  },
  {
   "cell_type": "code",
   "execution_count": 10,
   "id": "d9698b27",
   "metadata": {},
   "outputs": [],
   "source": [
    "file=file.drop(['education','number of open complaints'],axis=1)"
   ]
  },
  {
   "cell_type": "code",
   "execution_count": null,
   "id": "4c7e71bd",
   "metadata": {},
   "outputs": [],
   "source": []
  },
  {
   "cell_type": "code",
   "execution_count": 33,
   "id": "cabc69ae",
   "metadata": {},
   "outputs": [
    {
     "data": {
      "text/html": [
       "<div>\n",
       "<style scoped>\n",
       "    .dataframe tbody tr th:only-of-type {\n",
       "        vertical-align: middle;\n",
       "    }\n",
       "\n",
       "    .dataframe tbody tr th {\n",
       "        vertical-align: top;\n",
       "    }\n",
       "\n",
       "    .dataframe thead th {\n",
       "        text-align: right;\n",
       "    }\n",
       "</style>\n",
       "<table border=\"1\" class=\"dataframe\">\n",
       "  <thead>\n",
       "    <tr style=\"text-align: right;\">\n",
       "      <th></th>\n",
       "      <th>customer</th>\n",
       "      <th>st</th>\n",
       "      <th>gender</th>\n",
       "      <th>customer lifetime value</th>\n",
       "      <th>income</th>\n",
       "      <th>monthly premium auto</th>\n",
       "      <th>policy type</th>\n",
       "      <th>vehicle class</th>\n",
       "      <th>total claim amount</th>\n",
       "    </tr>\n",
       "  </thead>\n",
       "  <tbody>\n",
       "    <tr>\n",
       "      <th>0</th>\n",
       "      <td>RB50392</td>\n",
       "      <td>Washington</td>\n",
       "      <td>NaN</td>\n",
       "      <td>customer lifetime valuecustomer lifetime value...</td>\n",
       "      <td>0</td>\n",
       "      <td>1000</td>\n",
       "      <td>Personal Auto</td>\n",
       "      <td>Four-Door Car</td>\n",
       "      <td>2.704934</td>\n",
       "    </tr>\n",
       "    <tr>\n",
       "      <th>1</th>\n",
       "      <td>QZ44356</td>\n",
       "      <td>Arizona</td>\n",
       "      <td>F</td>\n",
       "      <td>customer lifetime valuecustomer lifetime value...</td>\n",
       "      <td>0</td>\n",
       "      <td>94</td>\n",
       "      <td>Personal Auto</td>\n",
       "      <td>Four-Door Car</td>\n",
       "      <td>1131.464935</td>\n",
       "    </tr>\n",
       "    <tr>\n",
       "      <th>2</th>\n",
       "      <td>AI49188</td>\n",
       "      <td>Nevada</td>\n",
       "      <td>F</td>\n",
       "      <td>customer lifetime valuecustomer lifetime value...</td>\n",
       "      <td>48767</td>\n",
       "      <td>108</td>\n",
       "      <td>Personal Auto</td>\n",
       "      <td>Two-Door Car</td>\n",
       "      <td>566.472247</td>\n",
       "    </tr>\n",
       "    <tr>\n",
       "      <th>3</th>\n",
       "      <td>WW63253</td>\n",
       "      <td>California</td>\n",
       "      <td>M</td>\n",
       "      <td>customer lifetime valuecustomer lifetime value...</td>\n",
       "      <td>0</td>\n",
       "      <td>106</td>\n",
       "      <td>Corporate Auto</td>\n",
       "      <td>SUV</td>\n",
       "      <td>529.881344</td>\n",
       "    </tr>\n",
       "    <tr>\n",
       "      <th>4</th>\n",
       "      <td>GA49547</td>\n",
       "      <td>Washington</td>\n",
       "      <td>M</td>\n",
       "      <td>customer lifetime valuecustomer lifetime value...</td>\n",
       "      <td>36357</td>\n",
       "      <td>68</td>\n",
       "      <td>Personal Auto</td>\n",
       "      <td>Four-Door Car</td>\n",
       "      <td>17.269323</td>\n",
       "    </tr>\n",
       "  </tbody>\n",
       "</table>\n",
       "</div>"
      ],
      "text/plain": [
       "  customer          st gender  \\\n",
       "0  RB50392  Washington    NaN   \n",
       "1  QZ44356     Arizona      F   \n",
       "2  AI49188      Nevada      F   \n",
       "3  WW63253  California      M   \n",
       "4  GA49547  Washington      M   \n",
       "\n",
       "                             customer lifetime value  income  \\\n",
       "0  customer lifetime valuecustomer lifetime value...       0   \n",
       "1  customer lifetime valuecustomer lifetime value...       0   \n",
       "2  customer lifetime valuecustomer lifetime value...   48767   \n",
       "3  customer lifetime valuecustomer lifetime value...       0   \n",
       "4  customer lifetime valuecustomer lifetime value...   36357   \n",
       "\n",
       "   monthly premium auto     policy type  vehicle class total claim amount  \n",
       "0                  1000   Personal Auto  Four-Door Car           2.704934  \n",
       "1                    94   Personal Auto  Four-Door Car        1131.464935  \n",
       "2                   108   Personal Auto   Two-Door Car         566.472247  \n",
       "3                   106  Corporate Auto            SUV         529.881344  \n",
       "4                    68   Personal Auto  Four-Door Car          17.269323  "
      ]
     },
     "execution_count": 33,
     "metadata": {},
     "output_type": "execute_result"
    }
   ],
   "source": [
    "file.head()"
   ]
  },
  {
   "cell_type": "code",
   "execution_count": 12,
   "id": "463c4390",
   "metadata": {},
   "outputs": [],
   "source": [
    "file['customer lifetime value']=pd.to_numeric(file['customer lifetime value'],errors='coerce')"
   ]
  },
  {
   "cell_type": "code",
   "execution_count": 43,
   "id": "58a38a1e",
   "metadata": {},
   "outputs": [
    {
     "data": {
      "text/html": [
       "<div>\n",
       "<style scoped>\n",
       "    .dataframe tbody tr th:only-of-type {\n",
       "        vertical-align: middle;\n",
       "    }\n",
       "\n",
       "    .dataframe tbody tr th {\n",
       "        vertical-align: top;\n",
       "    }\n",
       "\n",
       "    .dataframe thead th {\n",
       "        text-align: right;\n",
       "    }\n",
       "</style>\n",
       "<table border=\"1\" class=\"dataframe\">\n",
       "  <thead>\n",
       "    <tr style=\"text-align: right;\">\n",
       "      <th></th>\n",
       "      <th>Customer</th>\n",
       "      <th>State</th>\n",
       "      <th>Customer Lifetime Value</th>\n",
       "      <th>Gender</th>\n",
       "      <th>Income</th>\n",
       "      <th>Monthly Premium Auto</th>\n",
       "      <th>Number of Open Complaints</th>\n",
       "      <th>Policy Type</th>\n",
       "      <th>Total Claim Amount</th>\n",
       "      <th>Vehicle Class</th>\n",
       "    </tr>\n",
       "  </thead>\n",
       "  <tbody>\n",
       "    <tr>\n",
       "      <th>0</th>\n",
       "      <td>AA11235</td>\n",
       "      <td>Nevada</td>\n",
       "      <td>2.568843e+05</td>\n",
       "      <td>F</td>\n",
       "      <td>11167</td>\n",
       "      <td>73</td>\n",
       "      <td>3</td>\n",
       "      <td>Personal Auto</td>\n",
       "      <td>350.4</td>\n",
       "      <td>Two-Door Car</td>\n",
       "    </tr>\n",
       "    <tr>\n",
       "      <th>1</th>\n",
       "      <td>AA16582</td>\n",
       "      <td>Washington</td>\n",
       "      <td>2.412750e+06</td>\n",
       "      <td>M</td>\n",
       "      <td>14072</td>\n",
       "      <td>71</td>\n",
       "      <td>0</td>\n",
       "      <td>Personal Auto</td>\n",
       "      <td>511.2</td>\n",
       "      <td>Four-Door Car</td>\n",
       "    </tr>\n",
       "    <tr>\n",
       "      <th>2</th>\n",
       "      <td>AA34092</td>\n",
       "      <td>California</td>\n",
       "      <td>2.879995e+06</td>\n",
       "      <td>M</td>\n",
       "      <td>33635</td>\n",
       "      <td>240</td>\n",
       "      <td>0</td>\n",
       "      <td>Personal Auto</td>\n",
       "      <td>1152.0</td>\n",
       "      <td>Luxury SUV</td>\n",
       "    </tr>\n",
       "    <tr>\n",
       "      <th>3</th>\n",
       "      <td>AA56476</td>\n",
       "      <td>Arizona</td>\n",
       "      <td>5.595390e+05</td>\n",
       "      <td>F</td>\n",
       "      <td>74454</td>\n",
       "      <td>71</td>\n",
       "      <td>0</td>\n",
       "      <td>Corporate Auto</td>\n",
       "      <td>340.8</td>\n",
       "      <td>Four-Door Car</td>\n",
       "    </tr>\n",
       "    <tr>\n",
       "      <th>4</th>\n",
       "      <td>AA69265</td>\n",
       "      <td>Nevada</td>\n",
       "      <td>3.964731e+05</td>\n",
       "      <td>F</td>\n",
       "      <td>60817</td>\n",
       "      <td>103</td>\n",
       "      <td>1</td>\n",
       "      <td>Personal Auto</td>\n",
       "      <td>494.4</td>\n",
       "      <td>Four-Door Car</td>\n",
       "    </tr>\n",
       "  </tbody>\n",
       "</table>\n",
       "</div>"
      ],
      "text/plain": [
       "  Customer       State  Customer Lifetime Value Gender  Income  \\\n",
       "0  AA11235      Nevada             2.568843e+05      F   11167   \n",
       "1  AA16582  Washington             2.412750e+06      M   14072   \n",
       "2  AA34092  California             2.879995e+06      M   33635   \n",
       "3  AA56476     Arizona             5.595390e+05      F   74454   \n",
       "4  AA69265      Nevada             3.964731e+05      F   60817   \n",
       "\n",
       "   Monthly Premium Auto  Number of Open Complaints     Policy Type  \\\n",
       "0                    73                          3   Personal Auto   \n",
       "1                    71                          0   Personal Auto   \n",
       "2                   240                          0   Personal Auto   \n",
       "3                    71                          0  Corporate Auto   \n",
       "4                   103                          1   Personal Auto   \n",
       "\n",
       "   Total Claim Amount  Vehicle Class  \n",
       "0               350.4   Two-Door Car  \n",
       "1               511.2  Four-Door Car  \n",
       "2              1152.0     Luxury SUV  \n",
       "3               340.8  Four-Door Car  \n",
       "4               494.4  Four-Door Car  "
      ]
     },
     "execution_count": 43,
     "metadata": {},
     "output_type": "execute_result"
    }
   ],
   "source": [
    "#multiply 'customer lifetime value' by 100\n",
    "\n",
    "#I have made a mistake with multiplying customer customer lifetime value and I can't seem to correct it\n",
    "\n",
    "file.head()"
   ]
  },
  {
   "cell_type": "code",
   "execution_count": 21,
   "id": "c4d41512",
   "metadata": {},
   "outputs": [
    {
     "name": "stdout",
     "output_type": "stream",
     "text": [
      "  customer          st gender  customer lifetime value  income  \\\n",
      "0  RB50392  Washington    NaN                      NaN       0   \n",
      "1  QZ44356     Arizona      F                      NaN       0   \n",
      "2  AI49188      Nevada      F                      NaN   48767   \n",
      "3  WW63253  California      M                      NaN       0   \n",
      "4  GA49547  Washington      M                      NaN   36357   \n",
      "\n",
      "   monthly premium auto     policy type  vehicle class total claim amount  \n",
      "0                  1000   Personal Auto  Four-Door Car           2.704934  \n",
      "1                    94   Personal Auto  Four-Door Car        1131.464935  \n",
      "2                   108   Personal Auto   Two-Door Car         566.472247  \n",
      "3                   106  Corporate Auto            SUV         529.881344  \n",
      "4                    68   Personal Auto  Four-Door Car          17.269323  \n"
     ]
    }
   ],
   "source": [
    "file = file.drop_duplicates()\n",
    "print(file.head())"
   ]
  },
  {
   "cell_type": "code",
   "execution_count": 17,
   "id": "baf8dc96",
   "metadata": {},
   "outputs": [],
   "source": [
    "#if I filter out the zero income manually from excel is that acceptable?"
   ]
  },
  {
   "cell_type": "code",
   "execution_count": 22,
   "id": "4ab200e5",
   "metadata": {},
   "outputs": [
    {
     "data": {
      "text/plain": [
       "(9137, 9)"
      ]
     },
     "execution_count": 22,
     "metadata": {},
     "output_type": "execute_result"
    }
   ],
   "source": [
    "file.shape"
   ]
  },
  {
   "cell_type": "code",
   "execution_count": 40,
   "id": "f03c506c",
   "metadata": {},
   "outputs": [],
   "source": [
    "file.to_excel('1234.xlsx',index=False)"
   ]
  },
  {
   "cell_type": "code",
   "execution_count": 41,
   "id": "c1fa0db2",
   "metadata": {},
   "outputs": [],
   "source": [
    "file=pd.read_excel('file3333.xlsx')"
   ]
  },
  {
   "cell_type": "code",
   "execution_count": 42,
   "id": "ea613524",
   "metadata": {},
   "outputs": [
    {
     "data": {
      "text/plain": [
       "(5249, 10)"
      ]
     },
     "execution_count": 42,
     "metadata": {},
     "output_type": "execute_result"
    }
   ],
   "source": [
    "file.shape"
   ]
  }
 ],
 "metadata": {
  "kernelspec": {
   "display_name": "Python 3",
   "language": "python",
   "name": "python3"
  },
  "language_info": {
   "codemirror_mode": {
    "name": "ipython",
    "version": 3
   },
   "file_extension": ".py",
   "mimetype": "text/x-python",
   "name": "python",
   "nbconvert_exporter": "python",
   "pygments_lexer": "ipython3",
   "version": "3.8.8"
  }
 },
 "nbformat": 4,
 "nbformat_minor": 5
}
